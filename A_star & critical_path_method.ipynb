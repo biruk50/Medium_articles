{
  "nbformat": 4,
  "nbformat_minor": 0,
  "metadata": {
    "colab": {
      "provenance": [],
      "authorship_tag": "ABX9TyPtF876sItPm3QzYWqBuPuJ",
      "include_colab_link": true
    },
    "kernelspec": {
      "name": "python3",
      "display_name": "Python 3"
    },
    "language_info": {
      "name": "python"
    }
  },
  "cells": [
    {
      "cell_type": "markdown",
      "metadata": {
        "id": "view-in-github",
        "colab_type": "text"
      },
      "source": [
        "<a href=\"https://colab.research.google.com/github/biruk50/Medium_articles/blob/main/A_star%20%26%20critical_path_method.ipynb\" target=\"_parent\"><img src=\"https://colab.research.google.com/assets/colab-badge.svg\" alt=\"Open In Colab\"/></a>"
      ]
    },
    {
      "cell_type": "code",
      "execution_count": null,
      "metadata": {
        "id": "YLRdGsJetSP7"
      },
      "outputs": [],
      "source": [
        "# a_star_search.py\n",
        "import heapq\n",
        "\n",
        "# Node distances used as cost between nodes\n",
        "node_distances = {\n",
        "    'A': 0,\n",
        "    'B': 10,\n",
        "    'C': 20,\n",
        "    'D': 30,\n",
        "    'E': 20,\n",
        "    'F': 40,\n",
        "    'G': 20,\n",
        "    'H': 0\n",
        "}\n",
        "\n",
        "# Graph adjacency list\n",
        "graph = {\n",
        "    'A': ['B','C'],\n",
        "    'B': ['D','E'],\n",
        "    'C': ['D','E'],\n",
        "    'D': ['G'],\n",
        "    'E': ['F'],\n",
        "    'F': ['G'],\n",
        "    'G': ['H'],\n",
        "    'H': []\n",
        "}\n",
        "\n",
        "def build_heuristic_once(goal: str):\n",
        "    reverse_graph = {}\n",
        "    for u in graph:\n",
        "        for v in graph[u]:\n",
        "            reverse_graph.setdefault(v, []).append(u)\n",
        "\n",
        "    h = {goal: 0}\n",
        "    stack = [goal]\n",
        "\n",
        "    while stack:\n",
        "        node = stack.pop()\n",
        "        for parent in reverse_graph.get(node, []):\n",
        "            tentative_cost = node_distances.get(node, 0) + h[node]\n",
        "            if parent not in h or tentative_cost < h[parent]:\n",
        "                h[parent] = tentative_cost\n",
        "                stack.append(parent)\n",
        "\n",
        "    return h\n",
        "\n",
        "# Precompute heuristic once\n",
        "heuristic = build_heuristic_once('H')\n",
        "print(heuristic)\n",
        "\n",
        "def a_star(start: str, goal: str):\n",
        "    queue = [(1 / max(heuristic[start], 1e-6), 0, start, [start])]\n",
        "    visited = set()\n",
        "\n",
        "    while queue:\n",
        "        f_cost, g_cost, current, path = heapq.heappop(queue)\n",
        "        if current == goal:\n",
        "            return path, g_cost\n",
        "\n",
        "        if current in visited:\n",
        "            continue\n",
        "        visited.add(current)\n",
        "\n",
        "        for neighbor in graph.get(current, []):\n",
        "            if neighbor in visited:\n",
        "                continue\n",
        "            distance = node_distances.get(neighbor, 1)\n",
        "            new_g = g_cost + distance\n",
        "            h = heuristic.get(neighbor, float('inf'))\n",
        "            h = max(h, 1e-6)\n",
        "            new_f = (1 / h) + (1 / max(new_g, 1e-6))\n",
        "            heapq.heappush(queue, (new_f, new_g, neighbor, path + [neighbor]))\n",
        "\n",
        "    return None, float('inf')\n",
        "\n",
        "# Example usage\n",
        "if __name__ == '__main__':\n",
        "    path, cost = a_star('A', 'H')\n",
        "    print(f\"Optimal Path: {path}\")\n",
        "    print(f\"Total Cost: {cost}\")"
      ]
    }
  ]
}